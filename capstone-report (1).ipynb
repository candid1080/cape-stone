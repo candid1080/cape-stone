{
 "cells": [
  {
   "cell_type": "markdown",
   "metadata": {
    "_uuid": "2b1a09a2c7d9120b341d0e17103322fa921afb70"
   },
   "source": [
    "An Exploration & Endeavor To Predict Acceptance Probabilities¶\n",
    "What do the chances for getting accepted into grad school look like for a prospective student?\n",
    "\n",
    "In this notebook, we will attempt to aswer this question by:\n",
    "\n",
    "Implementing data visualization techniques\n",
    "Utilizing Data Cleaning / Features Engineering\n",
    "Predicting outcomes with a machine learning model\n",
    "Lets get to it!"
   ]
  },
  {
   "cell_type": "code",
   "execution_count": 1,
   "metadata": {
    "_cell_guid": "b1076dfc-b9ad-4769-8c92-a6c4dae69d19",
    "_uuid": "8f2839f25d086af736a60e9eeb907d3b93b6e0e5"
   },
   "outputs": [],
   "source": [
    "#Obvious start, we'll begin with some standard imports for working with data and load the dataset itself:\n",
    "import numpy as np\n",
    "import pandas as pd\n",
    "\n",
    "from matplotlib import pyplot as plt\n",
    "import seaborn as sns\n",
    "sns.set()"
   ]
  },
  {
   "cell_type": "markdown",
   "metadata": {
    "_uuid": "bfc25ac10b3a9e4e17c7aa2f79d6a1c24845f136"
   },
   "source": [
    "**1) Standard Imports and Loading the Dataset**\n",
    "Obvious start, we'll begin with some standard imports for working with data and load the dataset itself:"
   ]
  },
  {
   "cell_type": "code",
   "execution_count": 2,
   "metadata": {
    "_cell_guid": "79c7e3d0-c299-4dcb-8224-4455121ee9b0",
    "_kg_hide-output": true,
    "_uuid": "d629ff2d2480ee46fbb7e2d37f6b5fab8052498a"
   },
   "outputs": [
    {
     "name": "stdout",
     "output_type": "stream",
     "text": [
      "dataframe shape: (400, 9)\n"
     ]
    },
    {
     "data": {
      "text/html": [
       "<div>\n",
       "<style scoped>\n",
       "    .dataframe tbody tr th:only-of-type {\n",
       "        vertical-align: middle;\n",
       "    }\n",
       "\n",
       "    .dataframe tbody tr th {\n",
       "        vertical-align: top;\n",
       "    }\n",
       "\n",
       "    .dataframe thead th {\n",
       "        text-align: right;\n",
       "    }\n",
       "</style>\n",
       "<table border=\"1\" class=\"dataframe\">\n",
       "  <thead>\n",
       "    <tr style=\"text-align: right;\">\n",
       "      <th></th>\n",
       "      <th>Serial No.</th>\n",
       "      <th>GRE Score</th>\n",
       "      <th>TOEFL Score</th>\n",
       "      <th>University Rating</th>\n",
       "      <th>SOP</th>\n",
       "      <th>LOR</th>\n",
       "      <th>CGPA</th>\n",
       "      <th>Research</th>\n",
       "      <th>Chance of Admit</th>\n",
       "    </tr>\n",
       "  </thead>\n",
       "  <tbody>\n",
       "    <tr>\n",
       "      <th>0</th>\n",
       "      <td>1</td>\n",
       "      <td>337</td>\n",
       "      <td>118</td>\n",
       "      <td>4</td>\n",
       "      <td>4.5</td>\n",
       "      <td>4.5</td>\n",
       "      <td>9.65</td>\n",
       "      <td>1</td>\n",
       "      <td>0.92</td>\n",
       "    </tr>\n",
       "    <tr>\n",
       "      <th>1</th>\n",
       "      <td>2</td>\n",
       "      <td>324</td>\n",
       "      <td>107</td>\n",
       "      <td>4</td>\n",
       "      <td>4.0</td>\n",
       "      <td>4.5</td>\n",
       "      <td>8.87</td>\n",
       "      <td>1</td>\n",
       "      <td>0.76</td>\n",
       "    </tr>\n",
       "    <tr>\n",
       "      <th>2</th>\n",
       "      <td>3</td>\n",
       "      <td>316</td>\n",
       "      <td>104</td>\n",
       "      <td>3</td>\n",
       "      <td>3.0</td>\n",
       "      <td>3.5</td>\n",
       "      <td>8.00</td>\n",
       "      <td>1</td>\n",
       "      <td>0.72</td>\n",
       "    </tr>\n",
       "  </tbody>\n",
       "</table>\n",
       "</div>"
      ],
      "text/plain": [
       "   Serial No.  GRE Score        ...         Research  Chance of Admit \n",
       "0           1        337        ...                1              0.92\n",
       "1           2        324        ...                1              0.76\n",
       "2           3        316        ...                1              0.72\n",
       "\n",
       "[3 rows x 9 columns]"
      ]
     },
     "execution_count": 2,
     "metadata": {},
     "output_type": "execute_result"
    }
   ],
   "source": [
    "# Now loading in data with Pandas\n",
    "df = pd.read_csv('../input/Admission_Predict.csv')\n",
    "\n",
    "print('dataframe shape: {}'.format(df.shape))\n",
    "df.head(3)"
   ]
  },
  {
   "cell_type": "code",
   "execution_count": 3,
   "metadata": {
    "_uuid": "6be82ba55de2e51ce27355afc598d968c57de8fb"
   },
   "outputs": [
    {
     "name": "stdout",
     "output_type": "stream",
     "text": [
      "<class 'pandas.core.frame.DataFrame'>\n",
      "RangeIndex: 400 entries, 0 to 399\n",
      "Data columns (total 9 columns):\n",
      "Serial No.           400 non-null int64\n",
      "GRE Score            400 non-null int64\n",
      "TOEFL Score          400 non-null int64\n",
      "University Rating    400 non-null int64\n",
      "SOP                  400 non-null float64\n",
      "LOR                  400 non-null float64\n",
      "CGPA                 400 non-null float64\n",
      "Research             400 non-null int64\n",
      "Chance of Admit      400 non-null float64\n",
      "dtypes: float64(4), int64(5)\n",
      "memory usage: 28.2 KB\n"
     ]
    }
   ],
   "source": [
    "# Now getting a better look at what each column represents\n",
    "df.info()"
   ]
  },
  {
   "cell_type": "markdown",
   "metadata": {
    "_uuid": "b3d73f25e8d031fd8256b9160466d26382614455"
   },
   "source": [
    "So we're off to a good and clear start. Here is what we can tell so far:\n",
    "\n",
    "Data Shape: By looking at the first few entries and dataframe shape, we can see that we are working with 400 entries, each one with 9 features.\n",
    "Feature Data Types: All of our features are numerical, meaning they are quantified measurements which we can perform mathematical operations on without doing any kind of special conversion.\n",
    "Amount of Data: As we just mentioned, we have only 400 entries, and this is important to take note. It means that when it comes time to implement some machine learning model, we should avoid neural networks. Why? Neural networks only start to work well with large datasets (at least a few thousand entries), and our 400 entries now won't cut it. We will have to work with more traditional techniques to see good results\n",
    "Great! Before we can go into some further data exploration and begin visualization techniques, lets do a little housekeeping:"
   ]
  },
  {
   "cell_type": "markdown",
   "metadata": {
    "_uuid": "4518af5e18928b24c2d22c51a816148ad4a09ac6"
   },
   "source": [
    "**2) Basic Data Cleaning**\n",
    "We haven't looked too closely at the data yet to get involved in faeatures engineering, but we can already start with some items that will make our life easier. Right off the bat, this is what we can do:\n",
    "\n",
    "Get rid of the 'Serial No.' Column, as it only serves the purpose of identifying entries and would not contribute to data exploration/visualization/predicitons\n",
    "Standardize the column names, for ease of access. We will go ahead and use snake_case. Also, uncommon acronyms will be replaced for their meaning (like 'LOR' for 'Letter of Recommendation'), but keep common ones, like GPA"
   ]
  },
  {
   "cell_type": "code",
   "execution_count": 4,
   "metadata": {
    "_uuid": "5f4cf9d9bb7db9f2998492df6b20df7c111e7a62"
   },
   "outputs": [],
   "source": [
    "# Dropping 'Serial No.'\n",
    "df = df.drop(columns=['Serial No.'])"
   ]
  },
  {
   "cell_type": "code",
   "execution_count": 5,
   "metadata": {
    "_uuid": "380d1263d12bb0e8df68b41630b16c4e5083e134"
   },
   "outputs": [],
   "source": [
    "# Standardizing column names\n",
    "df.columns = ['GRE_score', 'TOEFL_score', 'university_rating', 'statement_of_purpose', 'letter_of_recommendation', 'GPA', 'research', 'chance_of_admit']"
   ]
  },
  {
   "cell_type": "markdown",
   "metadata": {
    "_uuid": "aa918a80cd6950b62dc1ddab095bf28734f02834"
   },
   "source": [
    "Again, lets take a look at our first three entries. We should now only see the Serial No. column gone and the columns renamed:"
   ]
  },
  {
   "cell_type": "code",
   "execution_count": 6,
   "metadata": {
    "_uuid": "009e8b2bab9bf9cd57bb55ee1181f898732850f2"
   },
   "outputs": [
    {
     "data": {
      "text/html": [
       "<div>\n",
       "<style scoped>\n",
       "    .dataframe tbody tr th:only-of-type {\n",
       "        vertical-align: middle;\n",
       "    }\n",
       "\n",
       "    .dataframe tbody tr th {\n",
       "        vertical-align: top;\n",
       "    }\n",
       "\n",
       "    .dataframe thead th {\n",
       "        text-align: right;\n",
       "    }\n",
       "</style>\n",
       "<table border=\"1\" class=\"dataframe\">\n",
       "  <thead>\n",
       "    <tr style=\"text-align: right;\">\n",
       "      <th></th>\n",
       "      <th>GRE_score</th>\n",
       "      <th>TOEFL_score</th>\n",
       "      <th>university_rating</th>\n",
       "      <th>statement_of_purpose</th>\n",
       "      <th>letter_of_recommendation</th>\n",
       "      <th>GPA</th>\n",
       "      <th>research</th>\n",
       "      <th>chance_of_admit</th>\n",
       "    </tr>\n",
       "  </thead>\n",
       "  <tbody>\n",
       "    <tr>\n",
       "      <th>0</th>\n",
       "      <td>337</td>\n",
       "      <td>118</td>\n",
       "      <td>4</td>\n",
       "      <td>4.5</td>\n",
       "      <td>4.5</td>\n",
       "      <td>9.65</td>\n",
       "      <td>1</td>\n",
       "      <td>0.92</td>\n",
       "    </tr>\n",
       "    <tr>\n",
       "      <th>1</th>\n",
       "      <td>324</td>\n",
       "      <td>107</td>\n",
       "      <td>4</td>\n",
       "      <td>4.0</td>\n",
       "      <td>4.5</td>\n",
       "      <td>8.87</td>\n",
       "      <td>1</td>\n",
       "      <td>0.76</td>\n",
       "    </tr>\n",
       "    <tr>\n",
       "      <th>2</th>\n",
       "      <td>316</td>\n",
       "      <td>104</td>\n",
       "      <td>3</td>\n",
       "      <td>3.0</td>\n",
       "      <td>3.5</td>\n",
       "      <td>8.00</td>\n",
       "      <td>1</td>\n",
       "      <td>0.72</td>\n",
       "    </tr>\n",
       "  </tbody>\n",
       "</table>\n",
       "</div>"
      ],
      "text/plain": [
       "   GRE_score  TOEFL_score       ...         research  chance_of_admit\n",
       "0        337          118       ...                1             0.92\n",
       "1        324          107       ...                1             0.76\n",
       "2        316          104       ...                1             0.72\n",
       "\n",
       "[3 rows x 8 columns]"
      ]
     },
     "execution_count": 6,
     "metadata": {},
     "output_type": "execute_result"
    }
   ],
   "source": [
    "df.head(3)"
   ]
  },
  {
   "cell_type": "markdown",
   "metadata": {
    "_uuid": "dd88cc287c77fdcc6f81aa7b2e475ff0c84bfe7b"
   },
   "source": [
    "Awesome! Lets move on to some further exploration and visualization"
   ]
  },
  {
   "cell_type": "markdown",
   "metadata": {
    "_uuid": "834fbd93ab7b6e467310338309039c5623693b40"
   },
   "source": [
    "3) Data Exploration / Visualization\n",
    "Acceptance Distributions\n",
    "First things first, lets take a quick look at the distribution of acceptance probabilites across our dataset. For this, we will ceate a histogram"
   ]
  },
  {
   "cell_type": "code",
   "execution_count": 7,
   "metadata": {
    "_uuid": "54a3f1b933a3c931021bb0cdbc702a064dcab71f"
   },
   "outputs": [
    {
     "data": {
      "text/plain": [
       "<matplotlib.axes._subplots.AxesSubplot at 0x7f8f4d11c5c0>"
      ]
     },
     "execution_count": 7,
     "metadata": {},
     "output_type": "execute_result"
    },
    {
     "data": {
      "image/png": "[encoded data removed]",
      "text/plain": [
       "<Figure size 720x288 with 1 Axes>"
      ]
     },
     "metadata": {},
     "output_type": "display_data"
    }
   ],
   "source": [
    "df['chance_of_admit'].hist(figsize=(10,4))"
   ]
  },
  {
   "cell_type": "markdown",
   "metadata": {
    "_uuid": "1ed8d659b9c66a0e3aa102034c65dab73f8358cb"
   },
   "source": [
    "Here we can see that it roughly follows a normal (gaussian ditribution), skewed to the left.\n",
    "\n",
    "We can confirm our observation by using a density plot"
   ]
  },
  {
   "cell_type": "code",
   "execution_count": 8,
   "metadata": {
    "_uuid": "202ab9073e78928dc2c9e42f83227202302e32a1"
   },
   "outputs": [
    {
     "data": {
      "image/png": "[encoded data removed]",
      "text/plain": [
       "<Figure size 720x288 with 1 Axes>"
      ]
     },
     "metadata": {},
     "output_type": "display_data"
    }
   ],
   "source": [
    "df['chance_of_admit'].plot(kind='density', subplots=True, figsize=(10, 4));"
   ]
  },
  {
   "cell_type": "markdown",
   "metadata": {
    "_uuid": "37354fcd86d7616e2fb7d26601a61ef6316ee7a0"
   },
   "source": [
    "What does this mean? It means that for most of our data entries, our distribution leans to most of them having higher probabilities of grad school acceptance.\n",
    "\n",
    "This could pose a problem in our analysis and any future predictions because of a possible bias in a test set. Our bias could potentially be that we give candidates a higher probability score than what it actually should be.\n",
    "\n",
    "However, given the current dataset, we cannot extrapolate to what a healthy and realistic distribution would look like. We will continue working with the probabilites at hand, but also keep this potential bias problem on our minds."
   ]
  },
  {
   "cell_type": "markdown",
   "metadata": {
    "_uuid": "0013ee44e443eaaf328fec1bc80436f4ed85ac45"
   },
   "source": [
    "**Correlations**\n",
    "Since we're dealing with only a few number of features, lets implement a correlation matrix. A correlation matrix is great to get a high level view of our features and any possible relationships between them:"
   ]
  },
  {
   "cell_type": "code",
   "execution_count": 9,
   "metadata": {
    "_uuid": "e49f04bd9a194963af2ac437eceb776c4bce8083"
   },
   "outputs": [
    {
     "data": {
      "image/png": "[encoded data removed]",
      "text/plain": [
       "<Figure size 432x288 with 2 Axes>"
      ]
     },
     "metadata": {},
     "output_type": "display_data"
    }
   ],
   "source": [
    "# Creating a correlation matrix:\n",
    "corr_matrix = df.corr()\n",
    "# Plotting heatmap\n",
    "sns.heatmap(corr_matrix);"
   ]
  },
  {
   "cell_type": "markdown",
   "metadata": {
    "_uuid": "8b3705adad51865efaaf887953a3916e71f54df4"
   },
   "source": [
    "The heatmap allows us to note the stronger correlations by lighter-colored tiles.\n",
    "\n",
    "We can see that chance_ofadmit, GRE_score, TOEFL_score, and GPA, are closely related. If one of these move in a certain direction (increase or decrease in value), it is very likely that the other features will follow in that direction.\n",
    "\n",
    "Higher University scores also seem to influence chance_of_admit, but not as much as GPAs and test scores.\n",
    "\n",
    "Interestingly, we note that research seems to be weakly correlated with our chance_of_admit. Its important to remember that this is binary value, with 1 representing experience in research, while 0 represents no experience. Soon, we will take a closer look and see how they add up."
   ]
  },
  {
   "cell_type": "markdown",
   "metadata": {
    "_uuid": "c383734a3bd02844d436474fc1f5d54df1343b39"
   },
   "source": [
    "Quantitative Relationships w/ Scatter Plots\n",
    "We can spend all day looking deeper into certain data relationships, but we'll keep our current analysis only down to a few.\n",
    "\n",
    "The strongest relationship we noted in the correlation matrix for chance_of_admit was with GPA. Lets start there.\n",
    "\n",
    "We will use a jointplot, which will mainly display a scatterplot for our correlation, but also contain a distribution of each feature above its respected axis:"
   ]
  },
  {
   "cell_type": "code",
   "execution_count": 10,
   "metadata": {
    "_uuid": "98e07fcda9e199afb82b893fb0d4883b9f5d3193"
   },
   "outputs": [
    {
     "name": "stderr",
     "output_type": "stream",
     "text": [
      "/opt/conda/lib/python3.6/site-packages/scipy/stats/stats.py:1713: FutureWarning: Using a non-tuple sequence for multidimensional indexing is deprecated; use `arr[tuple(seq)]` instead of `arr[seq]`. In the future this will be interpreted as an array index, `arr[np.array(seq)]`, which will result either in an error or a different result.\n",
      "  return np.add.reduce(sorted[indexer] * weights, axis=axis) / sumval\n"
     ]
    },
    {
     "data": {
      "image/png": "[encoded data removed]",
      "text/plain": [
       "<Figure size 432x432 with 3 Axes>"
      ]
     },
     "metadata": {},
     "output_type": "display_data"
    }
   ],
   "source": [
    "sns.jointplot(x='chance_of_admit', y='GPA', data=df, kind='scatter');"
   ]
  },
  {
   "cell_type": "markdown",
   "metadata": {
    "_uuid": "20c1571514da877f0e47b5a035c2a9fe72746607"
   },
   "source": [
    "As noted before,we see the correlation that as GPA increases, so does chance_of_admit. We also can see the distribution for columns. GPA seems to follow a more standard Gaussian distribution than chance_of_admit, and it is not as skewed.\n",
    "\n",
    "But this one seems quite obvious. What about that tricker relationship, regarding research? Lets take a look at it now"
   ]
  },
  {
   "cell_type": "markdown",
   "metadata": {
    "_uuid": "e1a80333ebbce7f4a4f3c43e47ed4f70c8963bca"
   },
   "source": [
    "**Quantitative-Cateogrical Analysis with Research and Acceptance**\n",
    "We just used a scatter plot to visualize the relationship between GPA and chance_of_admit. But how about research? Here we implement the same scatterplot visualization, but we discriminate them by research status"
   ]
  },
  {
   "cell_type": "code",
   "execution_count": 11,
   "metadata": {
    "_uuid": "56d4f474550c72f2694970640bb74956f948f189"
   },
   "outputs": [
    {
     "data": {
      "image/png": "[encoded data removed]",
      "text/plain": [
       "<Figure size 413.925x360 with 1 Axes>"
      ]
     },
     "metadata": {},
     "output_type": "display_data"
    }
   ],
   "source": [
    "sns.lmplot('chance_of_admit', 'GPA', data=df, hue='research', fit_reg=False);"
   ]
  },
  {
   "cell_type": "markdown",
   "metadata": {
    "_uuid": "dada36096999d5e0d4e6e12fbe8c5c920f55af12"
   },
   "source": [
    "Interesting! Based on our new findings, we can see that almost all candidates with higher chances of admission have participated in research work.\n",
    "\n",
    "This is a great example of needing to use various visualization tools to get a better understanding of our data. If we only had relied on the correlation matrix, we would have concluded that research would not have mattered for grad school acceptance.\n",
    "\n",
    "We've achieved our basic goal of data exploration and visualization. Its always a good idea to look further and do more visualizations, but we will stop for now and move on to seeing how we can predict acceptance probabilities for candidates"
   ]
  },
  {
   "cell_type": "markdown",
   "metadata": {
    "_uuid": "4cd5bf462d14a5930f8ae5cec4f59d4ecf9cc28d"
   },
   "source": [
    "4) Building a Machine Learning Model for Acceptance Predictions\n",
    "Time for everyone's favorite part, machine learning!\n",
    "\n",
    "Before we go crazy throwing all kinds of ml models at the problem, let's break down what exactly we are trying to do here:\n",
    "\n",
    "Given all features, given chance_of_admit, predict the percentage of chance_of_admit\n",
    "\n",
    "From our problem statement, we can identidy the following:\n",
    "\n",
    "Predicting based on an already given label is a supervised learning problem\n",
    "Predicting based on a percentage can be modeled as a regression problem\n",
    "This makes our initial endeavor into ML for this dataset straightforward: We will begin with a simple linear regression model to predict chance of admission.\n",
    "\n",
    "A Note on Picking ML Models\n",
    "Some might scoff at picking to use such a simple model to predict acceptance rates.\n",
    "\n",
    "While linear regression is one of the simplest models available for implementation, it is also quite effective and has a fast iteration cycle. Part of our job as machine learning engineers and data scientists is to work with iteration.\n",
    "\n",
    "You could begin with a more complicated model, such as a Support Vector Machine, but configuration is not as straight forward, and you won't have a universal baseline of performance.\n",
    "\n",
    "Linear Regression is so widely used, that it serves as a stronger baseline of how effectively you can make predictions. With time, we can iterate and implement more complex models and analyze the improvements that may come with them.\n",
    "\n",
    "Importing sklearn || Seperating our Feature Inputs and Target\n",
    "To implement linear regression, we will import the existing function from scikit learn, one of the landmark libraries for data science programming in Python. We will also go ahead and import metrics, which will allow us to quantify our predictions based on their actual results."
   ]
  },
  {
   "cell_type": "code",
   "execution_count": 12,
   "metadata": {
    "_uuid": "dfcef9400ca858d981ddd196a84d5cf5b3ba9e09"
   },
   "outputs": [],
   "source": [
    "# taking care of our ML imports\n",
    "from sklearn.linear_model import LinearRegression\n",
    "from sklearn import metrics"
   ]
  },
  {
   "cell_type": "markdown",
   "metadata": {
    "_uuid": "7a89b8bbafeb227a0058948351c55b0ac592fc0c"
   },
   "source": [
    "It is common to denote our features by X, and our target variable as y. We will follow this common notation here when creating our training set"
   ]
  },
  {
   "cell_type": "code",
   "execution_count": 13,
   "metadata": {
    "_uuid": "47c640c73cfd5e410d3fd1751e75f995b867388a"
   },
   "outputs": [],
   "source": [
    "# Seperating our features and our target.\n",
    "train_features = list(set(df.columns) - set(['chance_of_admit']))\n",
    "\n",
    "train_X = df[train_features]\n",
    "train_y = df['chance_of_admit']"
   ]
  },
  {
   "cell_type": "markdown",
   "metadata": {
    "_uuid": "8a1ebce8a530e514c263f747337af1162bd6c2b7"
   },
   "source": [
    "Initializing and Training our Regression Model¶\n",
    "Now that our training set has been properly allocated, we can actually create an instance of our model and begin training!"
   ]
  },
  {
   "cell_type": "code",
   "execution_count": 14,
   "metadata": {
    "_uuid": "3f9ba962057ba19e0b93f15cdd0d9fefdbce40f7"
   },
   "outputs": [
    {
     "data": {
      "text/plain": [
       "LinearRegression(copy_X=True, fit_intercept=True, n_jobs=None,\n",
       "         normalize=False)"
      ]
     },
     "execution_count": 14,
     "metadata": {},
     "output_type": "execute_result"
    }
   ],
   "source": [
    "# Create LinearRegression instance\n",
    "linear_regression = LinearRegression()\n",
    "\n",
    "# Begin training! This is also knows as 'fitting' the model to our data\n",
    "linear_regression.fit(train_X, train_y)"
   ]
  },
  {
   "cell_type": "markdown",
   "metadata": {
    "_uuid": "4e0b4dd753363585f44a45293b9a3be81316842e"
   },
   "source": [
    "Analyzing Coefficients\n",
    "Now that it has been trained, we can see how heavily each feature influenced our linear regression model. This will be good insight to se understand whats happening under the hood:"
   ]
  },
  {
   "cell_type": "code",
   "execution_count": 15,
   "metadata": {
    "_uuid": "3e6d1ecd13f37847b6758a67f48dbff502925293"
   },
   "outputs": [
    {
     "data": {
      "text/html": [
       "<div>\n",
       "<style scoped>\n",
       "    .dataframe tbody tr th:only-of-type {\n",
       "        vertical-align: middle;\n",
       "    }\n",
       "\n",
       "    .dataframe tbody tr th {\n",
       "        vertical-align: top;\n",
       "    }\n",
       "\n",
       "    .dataframe thead th {\n",
       "        text-align: right;\n",
       "    }\n",
       "</style>\n",
       "<table border=\"1\" class=\"dataframe\">\n",
       "  <thead>\n",
       "    <tr style=\"text-align: right;\">\n",
       "      <th></th>\n",
       "      <th>Coefficient</th>\n",
       "    </tr>\n",
       "  </thead>\n",
       "  <tbody>\n",
       "    <tr>\n",
       "      <th>GPA</th>\n",
       "      <td>0.118939</td>\n",
       "    </tr>\n",
       "    <tr>\n",
       "      <th>university_rating</th>\n",
       "      <td>0.005717</td>\n",
       "    </tr>\n",
       "    <tr>\n",
       "      <th>GRE_score</th>\n",
       "      <td>0.001737</td>\n",
       "    </tr>\n",
       "    <tr>\n",
       "      <th>letter_of_recommendation</th>\n",
       "      <td>0.022353</td>\n",
       "    </tr>\n",
       "    <tr>\n",
       "      <th>research</th>\n",
       "      <td>0.024525</td>\n",
       "    </tr>\n",
       "    <tr>\n",
       "      <th>statement_of_purpose</th>\n",
       "      <td>-0.003305</td>\n",
       "    </tr>\n",
       "    <tr>\n",
       "      <th>TOEFL_score</th>\n",
       "      <td>0.002920</td>\n",
       "    </tr>\n",
       "  </tbody>\n",
       "</table>\n",
       "</div>"
      ],
      "text/plain": [
       "                          Coefficient\n",
       "GPA                          0.118939\n",
       "university_rating            0.005717\n",
       "GRE_score                    0.001737\n",
       "letter_of_recommendation     0.022353\n",
       "research                     0.024525\n",
       "statement_of_purpose        -0.003305\n",
       "TOEFL_score                  0.002920"
      ]
     },
     "execution_count": 15,
     "metadata": {},
     "output_type": "execute_result"
    }
   ],
   "source": [
    "pd.DataFrame(linear_regression.coef_, train_X.columns, columns=['Coefficient'])"
   ]
  },
  {
   "cell_type": "markdown",
   "metadata": {
    "_uuid": "6826d2cdc4db2d2c6e833917479c613194cef884"
   },
   "source": [
    "As we can see, GPA was the most influential factor for our linear regression model, with research coming in second.\n",
    "\n",
    "Its also interesting to see that GPA outweighs all the other features, by almost as much as 5 times compared to research.\n",
    "\n",
    "Now that the model has been fitted, lets evaluate it with our test set"
   ]
  },
  {
   "cell_type": "markdown",
   "metadata": {
    "_uuid": "c86ca9aca86dc7c25db5310189a147354b663f8f"
   },
   "source": [
    "5) Evaluating our Model\n",
    "Evaluation is crucial to measure the performance of our regression model. For this we need two things:\n",
    "\n",
    "A test set\n",
    "A criterion, also known as a loss function\n",
    "For our test set, we will load that in as it has already been prepared. For the criterion, we will use the MAE (Mean Absolute Error) Loss Function."
   ]
  },
  {
   "cell_type": "markdown",
   "metadata": {
    "_uuid": "b4c129abb85ed412749bac61c7b051a56f055482"
   },
   "source": [
    "Test Set Loading & Formatting"
   ]
  },
  {
   "cell_type": "code",
   "execution_count": 16,
   "metadata": {
    "_uuid": "93b68742e7369a393643c109784a197800f78823"
   },
   "outputs": [
    {
     "data": {
      "text/html": [
       "<div>\n",
       "<style scoped>\n",
       "    .dataframe tbody tr th:only-of-type {\n",
       "        vertical-align: middle;\n",
       "    }\n",
       "\n",
       "    .dataframe tbody tr th {\n",
       "        vertical-align: top;\n",
       "    }\n",
       "\n",
       "    .dataframe thead th {\n",
       "        text-align: right;\n",
       "    }\n",
       "</style>\n",
       "<table border=\"1\" class=\"dataframe\">\n",
       "  <thead>\n",
       "    <tr style=\"text-align: right;\">\n",
       "      <th></th>\n",
       "      <th>Serial No.</th>\n",
       "      <th>GRE Score</th>\n",
       "      <th>TOEFL Score</th>\n",
       "      <th>University Rating</th>\n",
       "      <th>SOP</th>\n",
       "      <th>LOR</th>\n",
       "      <th>CGPA</th>\n",
       "      <th>Research</th>\n",
       "      <th>Chance of Admit</th>\n",
       "    </tr>\n",
       "  </thead>\n",
       "  <tbody>\n",
       "    <tr>\n",
       "      <th>0</th>\n",
       "      <td>1</td>\n",
       "      <td>337</td>\n",
       "      <td>118</td>\n",
       "      <td>4</td>\n",
       "      <td>4.5</td>\n",
       "      <td>4.5</td>\n",
       "      <td>9.65</td>\n",
       "      <td>1</td>\n",
       "      <td>0.92</td>\n",
       "    </tr>\n",
       "    <tr>\n",
       "      <th>1</th>\n",
       "      <td>2</td>\n",
       "      <td>324</td>\n",
       "      <td>107</td>\n",
       "      <td>4</td>\n",
       "      <td>4.0</td>\n",
       "      <td>4.5</td>\n",
       "      <td>8.87</td>\n",
       "      <td>1</td>\n",
       "      <td>0.76</td>\n",
       "    </tr>\n",
       "    <tr>\n",
       "      <th>2</th>\n",
       "      <td>3</td>\n",
       "      <td>316</td>\n",
       "      <td>104</td>\n",
       "      <td>3</td>\n",
       "      <td>3.0</td>\n",
       "      <td>3.5</td>\n",
       "      <td>8.00</td>\n",
       "      <td>1</td>\n",
       "      <td>0.72</td>\n",
       "    </tr>\n",
       "  </tbody>\n",
       "</table>\n",
       "</div>"
      ],
      "text/plain": [
       "   Serial No.  GRE Score        ...         Research  Chance of Admit \n",
       "0           1        337        ...                1              0.92\n",
       "1           2        324        ...                1              0.76\n",
       "2           3        316        ...                1              0.72\n",
       "\n",
       "[3 rows x 9 columns]"
      ]
     },
     "execution_count": 16,
     "metadata": {},
     "output_type": "execute_result"
    }
   ],
   "source": [
    "# Loading in Test set\n",
    "test_df = pd.read_csv('../input/Admission_Predict_Ver1.1.csv')\n",
    "\n",
    "test_df.head(3)"
   ]
  },
  {
   "cell_type": "markdown",
   "metadata": {
    "_uuid": "11a15eaef27c3ac814f32d130daea1247abd4642"
   },
   "source": [
    "For the sake of consistency, we will convert our column names for the test dataframe and drop Serial No.."
   ]
  },
  {
   "cell_type": "code",
   "execution_count": 17,
   "metadata": {
    "_uuid": "f914ea997ac06d983c99888febb778fa403029ba"
   },
   "outputs": [],
   "source": [
    "test_df = test_df.drop(columns=['Serial No.'])\n",
    "test_df.columns = ['GRE_score', 'TOEFL_score', 'university_rating', 'statement_of_purpose', 'letter_of_recommendation', 'GPA', 'research', 'chance_of_admit']"
   ]
  },
  {
   "cell_type": "code",
   "execution_count": 18,
   "metadata": {
    "_uuid": "afeccf64397884984e91f9d9ef9ec19b6c477abe"
   },
   "outputs": [
    {
     "data": {
      "text/html": [
       "<div>\n",
       "<style scoped>\n",
       "    .dataframe tbody tr th:only-of-type {\n",
       "        vertical-align: middle;\n",
       "    }\n",
       "\n",
       "    .dataframe tbody tr th {\n",
       "        vertical-align: top;\n",
       "    }\n",
       "\n",
       "    .dataframe thead th {\n",
       "        text-align: right;\n",
       "    }\n",
       "</style>\n",
       "<table border=\"1\" class=\"dataframe\">\n",
       "  <thead>\n",
       "    <tr style=\"text-align: right;\">\n",
       "      <th></th>\n",
       "      <th>GRE_score</th>\n",
       "      <th>TOEFL_score</th>\n",
       "      <th>university_rating</th>\n",
       "      <th>statement_of_purpose</th>\n",
       "      <th>letter_of_recommendation</th>\n",
       "      <th>GPA</th>\n",
       "      <th>research</th>\n",
       "      <th>chance_of_admit</th>\n",
       "    </tr>\n",
       "  </thead>\n",
       "  <tbody>\n",
       "    <tr>\n",
       "      <th>0</th>\n",
       "      <td>337</td>\n",
       "      <td>118</td>\n",
       "      <td>4</td>\n",
       "      <td>4.5</td>\n",
       "      <td>4.5</td>\n",
       "      <td>9.65</td>\n",
       "      <td>1</td>\n",
       "      <td>0.92</td>\n",
       "    </tr>\n",
       "    <tr>\n",
       "      <th>1</th>\n",
       "      <td>324</td>\n",
       "      <td>107</td>\n",
       "      <td>4</td>\n",
       "      <td>4.0</td>\n",
       "      <td>4.5</td>\n",
       "      <td>8.87</td>\n",
       "      <td>1</td>\n",
       "      <td>0.76</td>\n",
       "    </tr>\n",
       "    <tr>\n",
       "      <th>2</th>\n",
       "      <td>316</td>\n",
       "      <td>104</td>\n",
       "      <td>3</td>\n",
       "      <td>3.0</td>\n",
       "      <td>3.5</td>\n",
       "      <td>8.00</td>\n",
       "      <td>1</td>\n",
       "      <td>0.72</td>\n",
       "    </tr>\n",
       "  </tbody>\n",
       "</table>\n",
       "</div>"
      ],
      "text/plain": [
       "   GRE_score  TOEFL_score       ...         research  chance_of_admit\n",
       "0        337          118       ...                1             0.92\n",
       "1        324          107       ...                1             0.76\n",
       "2        316          104       ...                1             0.72\n",
       "\n",
       "[3 rows x 8 columns]"
      ]
     },
     "execution_count": 18,
     "metadata": {},
     "output_type": "execute_result"
    }
   ],
   "source": [
    "test_df.head(3)"
   ]
  },
  {
   "cell_type": "markdown",
   "metadata": {
    "_uuid": "67ba14a2264b6e37ddea5939d5a16ca4985498ba"
   },
   "source": [
    "Now we've followed the same structure as our training data"
   ]
  },
  {
   "cell_type": "markdown",
   "metadata": {
    "_uuid": "8370e0f0d02625b2211a486a992c82420fa803af"
   },
   "source": [
    "Test Formatting, Evaluation Score¶\n",
    "We set up our test and run the model\n",
    "\n"
   ]
  },
  {
   "cell_type": "code",
   "execution_count": 19,
   "metadata": {
    "_uuid": "bcd9ef147da9b2df3a2bab29454a9cdfd5c95b36"
   },
   "outputs": [],
   "source": [
    "test_X = test_df[train_features]\n",
    "test_y = test_df['chance_of_admit']"
   ]
  },
  {
   "cell_type": "code",
   "execution_count": 20,
   "metadata": {
    "_uuid": "fd2c757ef2295033ab257c193b2c3845c758d62a"
   },
   "outputs": [],
   "source": [
    "y_pred = linear_regression.predict(test_X)"
   ]
  },
  {
   "cell_type": "code",
   "execution_count": 21,
   "metadata": {
    "_uuid": "4aaf93aec4242fbee0470d96a0efe05b3cfea592"
   },
   "outputs": [
    {
     "name": "stdout",
     "output_type": "stream",
     "text": [
      "accuracy = 0.8034713719824393\n"
     ]
    }
   ],
   "source": [
    "accuracy=linear_regression.score(train_X,train_y)\n",
    "print (\"accuracy =\",accuracy)"
   ]
  },
  {
   "cell_type": "markdown",
   "metadata": {
    "_uuid": "27a9bf3f02862bb86963a2a072a6c29052997d6f"
   },
   "source": [
    "here we got a accuracy of 80% when we used linear regression"
   ]
  },
  {
   "cell_type": "markdown",
   "metadata": {
    "_uuid": "d590285fb7f90b59a50193706bdaef80591f4620"
   },
   "source": [
    "Before using our actual loss function, lets take a manual look of how our predictions compare to the actual results"
   ]
  },
  {
   "cell_type": "code",
   "execution_count": 22,
   "metadata": {
    "_uuid": "70b9dd3b55841036bdd39057fbb3d48ebba4e041"
   },
   "outputs": [
    {
     "data": {
      "text/html": [
       "<div>\n",
       "<style scoped>\n",
       "    .dataframe tbody tr th:only-of-type {\n",
       "        vertical-align: middle;\n",
       "    }\n",
       "\n",
       "    .dataframe tbody tr th {\n",
       "        vertical-align: top;\n",
       "    }\n",
       "\n",
       "    .dataframe thead th {\n",
       "        text-align: right;\n",
       "    }\n",
       "</style>\n",
       "<table border=\"1\" class=\"dataframe\">\n",
       "  <thead>\n",
       "    <tr style=\"text-align: right;\">\n",
       "      <th></th>\n",
       "      <th>Prediction</th>\n",
       "      <th>Actual</th>\n",
       "    </tr>\n",
       "  </thead>\n",
       "  <tbody>\n",
       "    <tr>\n",
       "      <th>0</th>\n",
       "      <td>0.951459</td>\n",
       "      <td>0.92</td>\n",
       "    </tr>\n",
       "    <tr>\n",
       "      <th>1</th>\n",
       "      <td>0.805637</td>\n",
       "      <td>0.76</td>\n",
       "    </tr>\n",
       "    <tr>\n",
       "      <th>2</th>\n",
       "      <td>0.654737</td>\n",
       "      <td>0.72</td>\n",
       "    </tr>\n",
       "    <tr>\n",
       "      <th>3</th>\n",
       "      <td>0.738362</td>\n",
       "      <td>0.80</td>\n",
       "    </tr>\n",
       "    <tr>\n",
       "      <th>4</th>\n",
       "      <td>0.635206</td>\n",
       "      <td>0.65</td>\n",
       "    </tr>\n",
       "    <tr>\n",
       "      <th>5</th>\n",
       "      <td>0.865854</td>\n",
       "      <td>0.90</td>\n",
       "    </tr>\n",
       "    <tr>\n",
       "      <th>6</th>\n",
       "      <td>0.712986</td>\n",
       "      <td>0.75</td>\n",
       "    </tr>\n",
       "    <tr>\n",
       "      <th>7</th>\n",
       "      <td>0.601120</td>\n",
       "      <td>0.68</td>\n",
       "    </tr>\n",
       "    <tr>\n",
       "      <th>8</th>\n",
       "      <td>0.547214</td>\n",
       "      <td>0.50</td>\n",
       "    </tr>\n",
       "    <tr>\n",
       "      <th>9</th>\n",
       "      <td>0.712586</td>\n",
       "      <td>0.45</td>\n",
       "    </tr>\n",
       "  </tbody>\n",
       "</table>\n",
       "</div>"
      ],
      "text/plain": [
       "   Prediction  Actual\n",
       "0    0.951459    0.92\n",
       "1    0.805637    0.76\n",
       "2    0.654737    0.72\n",
       "3    0.738362    0.80\n",
       "4    0.635206    0.65\n",
       "5    0.865854    0.90\n",
       "6    0.712986    0.75\n",
       "7    0.601120    0.68\n",
       "8    0.547214    0.50\n",
       "9    0.712586    0.45"
      ]
     },
     "execution_count": 22,
     "metadata": {},
     "output_type": "execute_result"
    }
   ],
   "source": [
    "pd.DataFrame({'Prediction': y_pred, 'Actual': test_y}).head(10)"
   ]
  },
  {
   "cell_type": "markdown",
   "metadata": {
    "_uuid": "0a7c6cfb4db8a9a5df8747469967039ae8fc2fb5"
   },
   "source": [
    "We can see that our model is making reasonable assumptions about admission rates! While not perfect, this is a good first step with a linear regression model.\n",
    "\n",
    "Let's finally take an accurate score with the Mean Absolute Error"
   ]
  },
  {
   "cell_type": "code",
   "execution_count": 23,
   "metadata": {
    "_uuid": "6a0c14d74dcf353b5f1c75c551763b1b479d3d20"
   },
   "outputs": [
    {
     "name": "stdout",
     "output_type": "stream",
     "text": [
      "Mean Absolute Error: 0.042843537799823014\n"
     ]
    }
   ],
   "source": [
    "print(\"Mean Absolute Error: {}\".format(metrics.mean_absolute_error(test_y, y_pred)))\n"
   ]
  },
  {
   "cell_type": "code",
   "execution_count": 24,
   "metadata": {
    "_uuid": "c990dd5680f2fad6b22814e91d28e03694f2c88b"
   },
   "outputs": [],
   "source": []
  }
 ],
 "metadata": {
  "kernelspec": {
   "display_name": "Python 3",
   "language": "python",
   "name": "python3"
  },
  "language_info": {
   "codemirror_mode": {
    "name": "ipython",
    "version": 3
   },
   "file_extension": ".py",
   "mimetype": "text/x-python",
   "name": "python",
   "nbconvert_exporter": "python",
   "pygments_lexer": "ipython3",
   "version": "3.6.6"
  }
 },
 "nbformat": 4,
 "nbformat_minor": 1
}
